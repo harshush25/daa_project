{
 "cells": [
  {
   "cell_type": "code",
   "execution_count": 11,
   "id": "79104ddc-5e30-4e28-9c70-005c5dbc66f6",
   "metadata": {},
   "outputs": [
    {
     "name": "stdout",
     "output_type": "stream",
     "text": [
      "Welcome to the Smart Campus Navigation System!\n",
      "Available locations: ['Library', 'Cafeteria', 'Science Building', 'Gym', 'Admin Building', 'Dormitory']\n"
     ]
    },
    {
     "name": "stdout",
     "output_type": "stream",
     "text": [
      "Enter your starting location:  library\n",
      "Enter your destination location:  Dormitory\n"
     ]
    },
    {
     "name": "stdout",
     "output_type": "stream",
     "text": [
      "Shortest path from Library to Dormitory is: Library -> Cafeteria -> Admin Building -> Dormitory\n",
      "Estimated travel time: 14 minutes\n"
     ]
    }
   ],
   "source": [
    "import heapq\n",
    "\n",
    "# Graph representing the campus with locations and distances (in minutes)\n",
    "campus_map = {\n",
    "    'Library': {'Cafeteria': 4, 'Science Building': 7},\n",
    "    'Cafeteria': {'Library': 4, 'Gym': 3, 'Admin Building': 6},\n",
    "    'Science Building': {'Library': 7, 'Admin Building': 5},\n",
    "    'Gym': {'Cafeteria': 3, 'Dormitory': 8},\n",
    "    'Admin Building': {'Cafeteria': 6, 'Science Building': 5, 'Dormitory': 4},\n",
    "    'Dormitory': {'Gym': 8, 'Admin Building': 4}\n",
    "}\n",
    "\n",
    "def dijkstra(graph, start):\n",
    "    # Initialize distances and previous node records\n",
    "    distances = {node: float('infinity') for node in graph}\n",
    "    distances[start] = 0\n",
    "    previous_nodes = {node: None for node in graph}\n",
    "    \n",
    "    # Priority queue for managing the next closest location\n",
    "    priority_queue = [(0, start)]\n",
    "    heapq.heapify(priority_queue)\n",
    "\n",
    "    while priority_queue:\n",
    "        current_distance, current_node = heapq.heappop(priority_queue)\n",
    "        \n",
    "        # Skip nodes that already have a shorter known distance\n",
    "        if current_distance > distances[current_node]:\n",
    "            continue\n",
    "        \n",
    "        # Update the distances to each neighbor\n",
    "        for neighbor, weight in graph[current_node].items():\n",
    "            distance = current_distance + weight\n",
    "            if distance < distances[neighbor]:\n",
    "                distances[neighbor] = distance\n",
    "                previous_nodes[neighbor] = current_node\n",
    "                heapq.heappush(priority_queue, (distance, neighbor))\n",
    "\n",
    "    return distances, previous_nodes\n",
    "\n",
    "def get_shortest_path(previous_nodes, start, end):\n",
    "    path = []\n",
    "    current_node = end\n",
    "    \n",
    "    # Trace back the path from end to start using previous_nodes\n",
    "    while current_node != start:\n",
    "        path.append(current_node)\n",
    "        current_node = previous_nodes[current_node]\n",
    "    path.append(start)\n",
    "    path.reverse()\n",
    "    return path\n",
    "\n",
    "# Main function to run the navigation system\n",
    "def main():\n",
    "    print(\"Welcome to the Smart Campus Navigation System!\")\n",
    "    print(\"Available locations:\", list(campus_map.keys()))\n",
    "    start = input(\"Enter your starting location: \").title()\n",
    "    end = input(\"Enter your destination location: \").title()\n",
    "    \n",
    "    # Validate if entered locations exist in the map\n",
    "    if start not in campus_map or end not in campus_map:\n",
    "        print(\"Invalid location entered. Please try again with valid locations.\")\n",
    "        return\n",
    "    \n",
    "    # Run Dijkstra's algorithm to find shortest paths\n",
    "    distances, previous_nodes = dijkstra(campus_map, start)\n",
    "    \n",
    "    # Get the shortest path and total distance to the destination\n",
    "    if distances[end] == float('infinity'):\n",
    "        print(f\"No available path from {start} to {end}.\")\n",
    "    else:\n",
    "        path = get_shortest_path(previous_nodes, start, end)\n",
    "        print(f\"Shortest path from {start} to {end} is: {' -> '.join(path)}\")\n",
    "        print(f\"Estimated travel time: {distances[end]} minutes\")\n",
    "\n",
    "if __name__ == \"__main__\":\n",
    "    main()\n"
   ]
  },
  {
   "cell_type": "code",
   "execution_count": null,
   "id": "32e02725-ec9d-4817-9873-d2b2ca1f1e28",
   "metadata": {},
   "outputs": [],
   "source": []
  }
 ],
 "metadata": {
  "kernelspec": {
   "display_name": "Python 3 (ipykernel)",
   "language": "python",
   "name": "python3"
  },
  "language_info": {
   "codemirror_mode": {
    "name": "ipython",
    "version": 3
   },
   "file_extension": ".py",
   "mimetype": "text/x-python",
   "name": "python",
   "nbconvert_exporter": "python",
   "pygments_lexer": "ipython3",
   "version": "3.12.4"
  }
 },
 "nbformat": 4,
 "nbformat_minor": 5
}
